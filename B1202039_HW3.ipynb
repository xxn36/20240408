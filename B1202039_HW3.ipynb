{
  "nbformat": 4,
  "nbformat_minor": 0,
  "metadata": {
    "colab": {
      "provenance": []
    },
    "kernelspec": {
      "name": "python3",
      "display_name": "Python 3"
    },
    "language_info": {
      "name": "python"
    }
  },
  "cells": [
    {
      "cell_type": "code",
      "execution_count": 6,
      "metadata": {
        "colab": {
          "base_uri": "https://localhost:8080/"
        },
        "id": "1sMhnoag4aZU",
        "outputId": "699b88e2-792b-418f-d642-4f884cbe2348"
      },
      "outputs": [
        {
          "output_type": "stream",
          "name": "stdout",
          "text": [
            "請輸入年份:1994\n",
            "平年\n"
          ]
        }
      ],
      "source": [
        "a=int(input(\"請輸入年份:\"))\n",
        "\n",
        "if a<1583:\n",
        "  if a%4==0:\n",
        "   print('閏年')\n",
        "  else:\n",
        "   print('平年')\n",
        "else:\n",
        "  if a%400==0:\n",
        "   print('閏年')\n",
        "  elif a%100==0:\n",
        "   print('平年')\n",
        "  elif a%4==0:\n",
        "   print('閏年')\n",
        "  else:\n",
        "   print('平年')\n",
        "\n",
        "\n"
      ]
    }
  ]
}